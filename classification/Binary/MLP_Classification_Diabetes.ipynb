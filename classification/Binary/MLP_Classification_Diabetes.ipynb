{
 "cells": [
  {
   "attachments": {},
   "cell_type": "markdown",
   "metadata": {},
   "source": [
    "**MLP for Binary Classification**\n"
   ]
  },
  {
   "cell_type": "code",
   "execution_count": 39,
   "metadata": {},
   "outputs": [],
   "source": [
    "import numpy as np\n",
    "import pandas as pd\n",
    "import seaborn as sns\n",
    "import matplotlib.pyplot as plt\n",
    "from matplotlib import rcParams\n",
    "from sklearn.model_selection import train_test_split\n",
    "from sklearn.preprocessing import MinMaxScaler\n",
    "from sklearn.metrics import confusion_matrix, ConfusionMatrixDisplay, accuracy_score\n",
    "import tensorflow as tf\n",
    "from tensorflow.keras.models import Model\n",
    "from tensorflow.keras.layers import Input, Dense"
   ]
  },
  {
   "attachments": {},
   "cell_type": "markdown",
   "metadata": {},
   "source": [
    "## Load data\n",
    "Pima Indian Diabetes 2 data set obtained from the UCI Repository of machine learning databases (Newman et al. 1998)\\\n",
    "Attributes:\n",
    "\n",
    "* pregnant: Number of times pregnant\n",
    "* glucose: Plasma glucose concentration (glucose tolerance test)\n",
    "* pressure: Diastolic blood pressure (mm Hg)\n",
    "* triceps: Triceps skin fold thickness (mm)\n",
    "* insulin: 2-Hour serum insulin (mu U/ml)\n",
    "* mass: Body mass index (weight in kg/(height in m)\\²)\n",
    "* pedigree: Diabetes pedigree function\n",
    "* age: Age (years)\n",
    "* diabetes: diabetes case (0 = neg / 1 = pos)"
   ]
  },
  {
   "cell_type": "code",
   "execution_count": 40,
   "metadata": {},
   "outputs": [
    {
     "name": "stdout",
     "output_type": "stream",
     "text": [
      "Number of rows: 392 and columns: 9\n"
     ]
    },
    {
     "data": {
      "text/html": [
       "<div>\n",
       "<style scoped>\n",
       "    .dataframe tbody tr th:only-of-type {\n",
       "        vertical-align: middle;\n",
       "    }\n",
       "\n",
       "    .dataframe tbody tr th {\n",
       "        vertical-align: top;\n",
       "    }\n",
       "\n",
       "    .dataframe thead th {\n",
       "        text-align: right;\n",
       "    }\n",
       "</style>\n",
       "<table border=\"1\" class=\"dataframe\">\n",
       "  <thead>\n",
       "    <tr style=\"text-align: right;\">\n",
       "      <th></th>\n",
       "      <th>pregnant</th>\n",
       "      <th>glucose</th>\n",
       "      <th>pressure</th>\n",
       "      <th>triceps</th>\n",
       "      <th>insulin</th>\n",
       "      <th>mass</th>\n",
       "      <th>pedigree</th>\n",
       "      <th>age</th>\n",
       "      <th>diabetes</th>\n",
       "    </tr>\n",
       "  </thead>\n",
       "  <tbody>\n",
       "    <tr>\n",
       "      <th>0</th>\n",
       "      <td>1</td>\n",
       "      <td>89</td>\n",
       "      <td>66</td>\n",
       "      <td>23</td>\n",
       "      <td>94</td>\n",
       "      <td>28.1</td>\n",
       "      <td>0.167</td>\n",
       "      <td>21</td>\n",
       "      <td>0</td>\n",
       "    </tr>\n",
       "    <tr>\n",
       "      <th>1</th>\n",
       "      <td>0</td>\n",
       "      <td>137</td>\n",
       "      <td>40</td>\n",
       "      <td>35</td>\n",
       "      <td>168</td>\n",
       "      <td>43.1</td>\n",
       "      <td>2.288</td>\n",
       "      <td>33</td>\n",
       "      <td>1</td>\n",
       "    </tr>\n",
       "    <tr>\n",
       "      <th>2</th>\n",
       "      <td>3</td>\n",
       "      <td>78</td>\n",
       "      <td>50</td>\n",
       "      <td>32</td>\n",
       "      <td>88</td>\n",
       "      <td>31.0</td>\n",
       "      <td>0.248</td>\n",
       "      <td>26</td>\n",
       "      <td>1</td>\n",
       "    </tr>\n",
       "    <tr>\n",
       "      <th>3</th>\n",
       "      <td>2</td>\n",
       "      <td>197</td>\n",
       "      <td>70</td>\n",
       "      <td>45</td>\n",
       "      <td>543</td>\n",
       "      <td>30.5</td>\n",
       "      <td>0.158</td>\n",
       "      <td>53</td>\n",
       "      <td>1</td>\n",
       "    </tr>\n",
       "    <tr>\n",
       "      <th>4</th>\n",
       "      <td>1</td>\n",
       "      <td>189</td>\n",
       "      <td>60</td>\n",
       "      <td>23</td>\n",
       "      <td>846</td>\n",
       "      <td>30.1</td>\n",
       "      <td>0.398</td>\n",
       "      <td>59</td>\n",
       "      <td>1</td>\n",
       "    </tr>\n",
       "  </tbody>\n",
       "</table>\n",
       "</div>"
      ],
      "text/plain": [
       "   pregnant  glucose  pressure  triceps  insulin  mass  pedigree  age   \n",
       "0         1       89        66       23       94  28.1     0.167   21  \\\n",
       "1         0      137        40       35      168  43.1     2.288   33   \n",
       "2         3       78        50       32       88  31.0     0.248   26   \n",
       "3         2      197        70       45      543  30.5     0.158   53   \n",
       "4         1      189        60       23      846  30.1     0.398   59   \n",
       "\n",
       "   diabetes  \n",
       "0         0  \n",
       "1         1  \n",
       "2         1  \n",
       "3         1  \n",
       "4         1  "
      ]
     },
     "execution_count": 40,
     "metadata": {},
     "output_type": "execute_result"
    }
   ],
   "source": [
    "rawdata = pd.read_csv(\"your downloaded dataset location, e.g. c:/users/.../diabetes2.csv\")\n",
    "print(f\"Number of rows: {rawdata.shape[0]} and columns: {rawdata.shape[1]}\")\n",
    "rawdata.head()"
   ]
  },
  {
   "attachments": {},
   "cell_type": "markdown",
   "metadata": {},
   "source": [
    "## Frequency distribution of categorical column\n",
    "\n",
    "[Resampling strategies for imbalanced datasets](https://www.kaggle.com/code/rafjaa/resampling-strategies-for-imbalanced-datasets/notebook)"
   ]
  },
  {
   "cell_type": "code",
   "execution_count": 41,
   "metadata": {},
   "outputs": [
    {
     "data": {
      "text/plain": [
       "<BarContainer object of 2 artists>"
      ]
     },
     "execution_count": 41,
     "metadata": {},
     "output_type": "execute_result"
    },
    {
     "data": {
      "image/png": "[encoded data removed]",
      "text/plain": [
       "<Figure size 900x400 with 1 Axes>"
      ]
     },
     "metadata": {},
     "output_type": "display_data"
    }
   ],
   "source": [
    "# Convert integer column to categorical\n",
    "categories = rawdata.diabetes.astype('category').value_counts().index\n",
    "counts = pd.Categorical(rawdata.diabetes).value_counts().values\n",
    "plt.bar(categories, counts, width=0.5)"
   ]
  },
  {
   "attachments": {},
   "cell_type": "markdown",
   "metadata": {},
   "source": [
    "## Partition into train and test sets"
   ]
  },
  {
   "cell_type": "code",
   "execution_count": 42,
   "metadata": {},
   "outputs": [],
   "source": [
    "train, test = train_test_split(rawdata.to_numpy(), shuffle=True)"
   ]
  },
  {
   "attachments": {},
   "cell_type": "markdown",
   "metadata": {},
   "source": [
    "## Scale X and encode y"
   ]
  },
  {
   "cell_type": "code",
   "execution_count": 43,
   "metadata": {},
   "outputs": [
    {
     "name": "stdout",
     "output_type": "stream",
     "text": [
      "The order of the labels: [0 1]\n"
     ]
    }
   ],
   "source": [
    "# Extract X and y\n",
    "train_X, train_y = train[:, :-1], train[:, -1].reshape(-1, 1)\n",
    "test_X, test_y = test[:, :-1], test[:, -1].reshape(-1, 1)\n",
    "\n",
    "# Fit a scaler on the training set\n",
    "scaler_X = MinMaxScaler()\n",
    "train_scaled_X = scaler_X.fit_transform(train_X)\n",
    "# Apply the same scalers with learned parameters from training set on test set\n",
    "test_scaled_X = scaler_X.transform(test_X)\n",
    "\n",
    "# There's no special encoding necessary for y (= diabetes) because of already 0/1 pair values\n",
    "labels = rawdata.diabetes.astype('category').cat.categories.values\n",
    "print(f\"The order of the labels: {labels}\")"
   ]
  },
  {
   "attachments": {},
   "cell_type": "markdown",
   "metadata": {},
   "source": [
    "## Neural Network Model\n",
    "### Extract X and y"
   ]
  },
  {
   "cell_type": "code",
   "execution_count": 44,
   "metadata": {},
   "outputs": [
    {
     "name": "stdout",
     "output_type": "stream",
     "text": [
      "Number of features: 8 and number of outcomes: 1\n"
     ]
    }
   ],
   "source": [
    "def nunits(a):\n",
    "    \"\"\"Number of units (features or outcomes)\n",
    "\n",
    "    Arguments\n",
    "    ---------\n",
    "    a : array-like\n",
    "        A ndarray.\n",
    "\n",
    "    Returns\n",
    "    -------\n",
    "        Number of units : int\n",
    "\n",
    "    \"\"\"\n",
    "    if len(a.shape) == 1:\n",
    "        a = a.reshape(-1, 1)\n",
    "    return a.shape[-1]\n",
    "\n",
    "num_X = nunits(train_scaled_X)\n",
    "num_y = nunits(train_y)\n",
    "print(\"Number of features: {0} and number of outcomes: {1}\".format(num_X, num_y))"
   ]
  },
  {
   "attachments": {},
   "cell_type": "markdown",
   "metadata": {},
   "source": [
    "### Model"
   ]
  },
  {
   "cell_type": "code",
   "execution_count": 45,
   "metadata": {},
   "outputs": [],
   "source": [
    "def baseline_model():\n",
    "    # Input layer\n",
    "    input = Input(shape=(num_X,))\n",
    "    # Hidden layers\n",
    "    hidden = Dense(units=128, activation='relu')(input)\n",
    "    hidden = Dense(units=64, activation='relu')(hidden)\n",
    "    hidden = Dense(units=32, activation='relu')(hidden)\n",
    "    hidden = Dense(units=16, activation='relu')(hidden)\n",
    "    # Output layer\n",
    "    output = Dense(units=num_y, activation='sigmoid')(hidden)\n",
    "    # Entire model\n",
    "    model = Model(inputs=input, outputs=output, name='Classification')\n",
    "\n",
    "    # Configuration of the training process\n",
    "    model.compile(loss='binary_crossentropy', optimizer='adam', metrics=['accuracy'])\n",
    "\n",
    "    return model"
   ]
  },
  {
   "cell_type": "code",
   "execution_count": 50,
   "metadata": {},
   "outputs": [
    {
     "name": "stdout",
     "output_type": "stream",
     "text": [
      "Epoch 1/50\n",
      "294/294 [==============================] - 1s 1ms/step - loss: 0.6661 - accuracy: 0.6224\n",
      "Epoch 2/50\n",
      "294/294 [==============================] - 0s 1ms/step - loss: 0.6036 - accuracy: 0.6395\n",
      "Epoch 3/50\n",
      "294/294 [==============================] - 0s 1ms/step - loss: 0.5357 - accuracy: 0.7041\n",
      "Epoch 4/50\n",
      "294/294 [==============================] - 0s 1ms/step - loss: 0.5108 - accuracy: 0.7381\n",
      "Epoch 5/50\n",
      "294/294 [==============================] - 0s 1ms/step - loss: 0.4786 - accuracy: 0.7687\n",
      "Epoch 6/50\n",
      "294/294 [==============================] - 0s 1ms/step - loss: 0.4844 - accuracy: 0.7619\n",
      "Epoch 7/50\n",
      "294/294 [==============================] - 0s 1ms/step - loss: 0.4669 - accuracy: 0.7585\n",
      "Epoch 8/50\n",
      "294/294 [==============================] - 0s 1ms/step - loss: 0.4571 - accuracy: 0.7687\n",
      "Epoch 9/50\n",
      "294/294 [==============================] - 0s 1ms/step - loss: 0.4550 - accuracy: 0.7619\n",
      "Epoch 10/50\n",
      "294/294 [==============================] - 0s 1ms/step - loss: 0.4655 - accuracy: 0.7619\n",
      "Epoch 11/50\n",
      "294/294 [==============================] - 0s 1ms/step - loss: 0.4427 - accuracy: 0.7721\n",
      "Epoch 12/50\n",
      "294/294 [==============================] - 0s 1ms/step - loss: 0.4337 - accuracy: 0.7891\n",
      "Epoch 13/50\n",
      "294/294 [==============================] - 0s 1ms/step - loss: 0.4333 - accuracy: 0.7721\n",
      "Epoch 14/50\n",
      "294/294 [==============================] - 0s 1ms/step - loss: 0.4255 - accuracy: 0.7925\n",
      "Epoch 15/50\n",
      "294/294 [==============================] - 0s 1ms/step - loss: 0.4207 - accuracy: 0.8061\n",
      "Epoch 16/50\n",
      "294/294 [==============================] - 0s 1ms/step - loss: 0.4301 - accuracy: 0.7993\n",
      "Epoch 17/50\n",
      "294/294 [==============================] - 0s 1ms/step - loss: 0.4029 - accuracy: 0.8197\n",
      "Epoch 18/50\n",
      "294/294 [==============================] - 0s 1ms/step - loss: 0.4035 - accuracy: 0.8129\n",
      "Epoch 19/50\n",
      "294/294 [==============================] - 0s 1ms/step - loss: 0.4018 - accuracy: 0.8095\n",
      "Epoch 20/50\n",
      "294/294 [==============================] - 0s 1ms/step - loss: 0.3966 - accuracy: 0.8197\n",
      "Epoch 21/50\n",
      "294/294 [==============================] - 0s 1ms/step - loss: 0.4027 - accuracy: 0.8129\n",
      "Epoch 22/50\n",
      "294/294 [==============================] - 0s 1ms/step - loss: 0.4080 - accuracy: 0.8129\n",
      "Epoch 23/50\n",
      "294/294 [==============================] - 0s 1ms/step - loss: 0.3850 - accuracy: 0.7959\n",
      "Epoch 24/50\n",
      "294/294 [==============================] - 0s 1ms/step - loss: 0.3986 - accuracy: 0.8231\n",
      "Epoch 25/50\n",
      "294/294 [==============================] - 0s 1ms/step - loss: 0.3736 - accuracy: 0.8163\n",
      "Epoch 26/50\n",
      "294/294 [==============================] - 0s 1ms/step - loss: 0.3647 - accuracy: 0.8367\n",
      "Epoch 27/50\n",
      "294/294 [==============================] - 0s 1ms/step - loss: 0.3702 - accuracy: 0.8367\n",
      "Epoch 28/50\n",
      "294/294 [==============================] - 0s 1ms/step - loss: 0.3629 - accuracy: 0.8299\n",
      "Epoch 29/50\n",
      "294/294 [==============================] - 0s 1ms/step - loss: 0.3477 - accuracy: 0.8401\n",
      "Epoch 30/50\n",
      "294/294 [==============================] - 0s 1ms/step - loss: 0.3533 - accuracy: 0.8435\n",
      "Epoch 31/50\n",
      "294/294 [==============================] - 0s 1ms/step - loss: 0.3646 - accuracy: 0.8503\n",
      "Epoch 32/50\n",
      "294/294 [==============================] - 0s 1ms/step - loss: 0.3500 - accuracy: 0.8469\n",
      "Epoch 33/50\n",
      "294/294 [==============================] - 0s 1ms/step - loss: 0.3373 - accuracy: 0.8605\n",
      "Epoch 34/50\n",
      "294/294 [==============================] - 0s 1ms/step - loss: 0.3357 - accuracy: 0.8435\n",
      "Epoch 35/50\n",
      "294/294 [==============================] - 0s 1ms/step - loss: 0.3203 - accuracy: 0.8639\n",
      "Epoch 36/50\n",
      "294/294 [==============================] - 0s 1ms/step - loss: 0.3221 - accuracy: 0.8571\n",
      "Epoch 37/50\n",
      "294/294 [==============================] - 0s 1ms/step - loss: 0.3347 - accuracy: 0.8469\n",
      "Epoch 38/50\n",
      "294/294 [==============================] - 0s 1ms/step - loss: 0.3024 - accuracy: 0.8639\n",
      "Epoch 39/50\n",
      "294/294 [==============================] - 0s 1ms/step - loss: 0.3376 - accuracy: 0.8401\n",
      "Epoch 40/50\n",
      "294/294 [==============================] - 0s 1ms/step - loss: 0.3190 - accuracy: 0.8571\n",
      "Epoch 41/50\n",
      "294/294 [==============================] - 0s 1ms/step - loss: 0.2951 - accuracy: 0.8741\n",
      "Epoch 42/50\n",
      "294/294 [==============================] - 0s 1ms/step - loss: 0.3052 - accuracy: 0.8571\n",
      "Epoch 43/50\n",
      "294/294 [==============================] - 0s 1ms/step - loss: 0.3087 - accuracy: 0.8639\n",
      "Epoch 44/50\n",
      "294/294 [==============================] - 0s 1ms/step - loss: 0.3380 - accuracy: 0.8367\n",
      "Epoch 45/50\n",
      "294/294 [==============================] - 0s 1ms/step - loss: 0.2833 - accuracy: 0.8639\n",
      "Epoch 46/50\n",
      "294/294 [==============================] - 0s 1ms/step - loss: 0.2748 - accuracy: 0.8878\n",
      "Epoch 47/50\n",
      "294/294 [==============================] - 0s 1ms/step - loss: 0.2730 - accuracy: 0.8810\n",
      "Epoch 48/50\n",
      "294/294 [==============================] - 0s 1ms/step - loss: 0.2547 - accuracy: 0.8741\n",
      "Epoch 49/50\n",
      "294/294 [==============================] - 0s 1ms/step - loss: 0.2836 - accuracy: 0.8776\n",
      "Epoch 50/50\n",
      "294/294 [==============================] - 0s 1ms/step - loss: 0.2482 - accuracy: 0.8844\n"
     ]
    }
   ],
   "source": [
    "# Fit model\n",
    "model = baseline_model()\n",
    "\n",
    "epochs = 50\n",
    "batch_size = 1\n",
    "history = model.fit(x=train_scaled_X, y=train_y, epochs=epochs, batch_size=batch_size, verbose=1)"
   ]
  },
  {
   "attachments": {},
   "cell_type": "markdown",
   "metadata": {},
   "source": [
    "## Evaluation and Visualization of the classification model"
   ]
  },
  {
   "cell_type": "code",
   "execution_count": 51,
   "metadata": {},
   "outputs": [
    {
     "data": {
      "text/plain": [
       "<matplotlib.legend.Legend at 0x2a87f53c150>"
      ]
     },
     "execution_count": 51,
     "metadata": {},
     "output_type": "execute_result"
    },
    {
     "data": {
      "image/png": "[encoded data removed]",
      "text/plain": [
       "<Figure size 900x400 with 1 Axes>"
      ]
     },
     "metadata": {},
     "output_type": "display_data"
    }
   ],
   "source": [
    "rcParams['figure.figsize'] = (9, 4)\n",
    "rcParams['axes.spines.top'] = False\n",
    "rcParams['axes.spines.right'] = False\n",
    "\n",
    "plt.plot(\n",
    "    np.arange(1, epochs+1), \n",
    "    history.history['loss'], label='Loss'\n",
    ")\n",
    "plt.plot(\n",
    "    np.arange(1, epochs+1), \n",
    "    history.history['accuracy'], label='Accuracy'\n",
    ")\n",
    "plt.title('Evaluation metrics', size=14)\n",
    "plt.xlabel('Epoch', size=9)\n",
    "plt.legend()"
   ]
  },
  {
   "attachments": {},
   "cell_type": "markdown",
   "metadata": {},
   "source": [
    "## Predictions"
   ]
  },
  {
   "cell_type": "code",
   "execution_count": 62,
   "metadata": {},
   "outputs": [
    {
     "name": "stdout",
     "output_type": "stream",
     "text": [
      "10/10 [==============================] - 0s 2ms/step\n",
      "Accuracy score: 90.0%\n"
     ]
    }
   ],
   "source": [
    "# In-sample predictions\n",
    "train_yhat = model.predict(train_scaled_X)\n",
    "train_yhat = np.where(train_yhat >= 0.5, 1, 0)\n",
    "\n",
    "# Accuracy\n",
    "print(f'Accuracy score: {round(accuracy_score(train_y, train_yhat), 2)*100}%')"
   ]
  }
 ],
 "metadata": {
  "kernelspec": {
   "display_name": "KI",
   "language": "python",
   "name": "python3"
  },
  "language_info": {
   "codemirror_mode": {
    "name": "ipython",
    "version": 3
   },
   "file_extension": ".py",
   "mimetype": "text/x-python",
   "name": "python",
   "nbconvert_exporter": "python",
   "pygments_lexer": "ipython3",
   "version": "3.11.2"
  },
  "orig_nbformat": 4,
  "vscode": {
   "interpreter": {
    "hash": "cf5e281a374624e73df36f138a2d9e9531cb62603d537b8afcf2b5427de60132"
   }
  }
 },
 "nbformat": 4,
 "nbformat_minor": 2
}
