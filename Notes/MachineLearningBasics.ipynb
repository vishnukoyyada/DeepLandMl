{
 "cells": [
  {
   "cell_type": "markdown",
   "metadata": {},
   "source": [
    "1) Classification\n",
    "## In this machine has to solve that which of this input belongs to k categories from the op.\n",
    "## The output is limited to k values.\n",
    "Classiﬁcation with missing inputs:\n",
    "## in this some input will be missing but we should match.\n"
   ]
  },
  {
   "cell_type": "markdown",
   "metadata": {},
   "source": [
    "2) Linear Regression\n",
    "## in this machine has to predict a value.from the inputs\n"
   ]
  },
  {
   "cell_type": "markdown",
   "metadata": {},
   "source": []
  }
 ],
 "metadata": {
  "language_info": {
   "name": "python"
  }
 },
 "nbformat": 4,
 "nbformat_minor": 2
}
